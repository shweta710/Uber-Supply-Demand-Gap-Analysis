{
 "cells": [
  {
   "cell_type": "markdown",
   "metadata": {},
   "source": [
    "# - Assignment -\n",
    "## Uber Supply-Demand Gap"
   ]
  },
  {
   "cell_type": "code",
   "execution_count": 134,
   "metadata": {},
   "outputs": [],
   "source": [
    "# Importing Libraries needed for assignment\n",
    "import pandas as pd\n",
    "import numpy as np\n",
    "import matplotlib.pyplot as plt\n",
    "import seaborn as sns; sns.set()"
   ]
  },
  {
   "cell_type": "code",
   "execution_count": 135,
   "metadata": {},
   "outputs": [
    {
     "data": {
      "text/html": [
       "<div>\n",
       "<style scoped>\n",
       "    .dataframe tbody tr th:only-of-type {\n",
       "        vertical-align: middle;\n",
       "    }\n",
       "\n",
       "    .dataframe tbody tr th {\n",
       "        vertical-align: top;\n",
       "    }\n",
       "\n",
       "    .dataframe thead th {\n",
       "        text-align: right;\n",
       "    }\n",
       "</style>\n",
       "<table border=\"1\" class=\"dataframe\">\n",
       "  <thead>\n",
       "    <tr style=\"text-align: right;\">\n",
       "      <th></th>\n",
       "      <th>Request id</th>\n",
       "      <th>Pickup point</th>\n",
       "      <th>Driver id</th>\n",
       "      <th>Status</th>\n",
       "      <th>Request timestamp</th>\n",
       "      <th>Drop timestamp</th>\n",
       "    </tr>\n",
       "  </thead>\n",
       "  <tbody>\n",
       "    <tr>\n",
       "      <th>0</th>\n",
       "      <td>619</td>\n",
       "      <td>Airport</td>\n",
       "      <td>1.0</td>\n",
       "      <td>Trip Completed</td>\n",
       "      <td>11/7/2016 11:51</td>\n",
       "      <td>11/7/2016 13:00</td>\n",
       "    </tr>\n",
       "    <tr>\n",
       "      <th>1</th>\n",
       "      <td>867</td>\n",
       "      <td>Airport</td>\n",
       "      <td>1.0</td>\n",
       "      <td>Trip Completed</td>\n",
       "      <td>11/7/2016 17:57</td>\n",
       "      <td>11/7/2016 18:47</td>\n",
       "    </tr>\n",
       "    <tr>\n",
       "      <th>2</th>\n",
       "      <td>1807</td>\n",
       "      <td>City</td>\n",
       "      <td>1.0</td>\n",
       "      <td>Trip Completed</td>\n",
       "      <td>12/7/2016 9:17</td>\n",
       "      <td>12/7/2016 9:58</td>\n",
       "    </tr>\n",
       "    <tr>\n",
       "      <th>3</th>\n",
       "      <td>2532</td>\n",
       "      <td>Airport</td>\n",
       "      <td>1.0</td>\n",
       "      <td>Trip Completed</td>\n",
       "      <td>12/7/2016 21:08</td>\n",
       "      <td>12/7/2016 22:03</td>\n",
       "    </tr>\n",
       "    <tr>\n",
       "      <th>4</th>\n",
       "      <td>3112</td>\n",
       "      <td>City</td>\n",
       "      <td>1.0</td>\n",
       "      <td>Trip Completed</td>\n",
       "      <td>13-07-2016 08:33:16</td>\n",
       "      <td>13-07-2016 09:25:47</td>\n",
       "    </tr>\n",
       "    <tr>\n",
       "      <th>5</th>\n",
       "      <td>3879</td>\n",
       "      <td>Airport</td>\n",
       "      <td>1.0</td>\n",
       "      <td>Trip Completed</td>\n",
       "      <td>13-07-2016 21:57:28</td>\n",
       "      <td>13-07-2016 22:28:59</td>\n",
       "    </tr>\n",
       "    <tr>\n",
       "      <th>6</th>\n",
       "      <td>4270</td>\n",
       "      <td>Airport</td>\n",
       "      <td>1.0</td>\n",
       "      <td>Trip Completed</td>\n",
       "      <td>14-07-2016 06:15:32</td>\n",
       "      <td>14-07-2016 07:13:15</td>\n",
       "    </tr>\n",
       "    <tr>\n",
       "      <th>7</th>\n",
       "      <td>5510</td>\n",
       "      <td>Airport</td>\n",
       "      <td>1.0</td>\n",
       "      <td>Trip Completed</td>\n",
       "      <td>15-07-2016 05:11:52</td>\n",
       "      <td>15-07-2016 06:07:52</td>\n",
       "    </tr>\n",
       "    <tr>\n",
       "      <th>8</th>\n",
       "      <td>6248</td>\n",
       "      <td>City</td>\n",
       "      <td>1.0</td>\n",
       "      <td>Trip Completed</td>\n",
       "      <td>15-07-2016 17:57:27</td>\n",
       "      <td>15-07-2016 18:50:51</td>\n",
       "    </tr>\n",
       "    <tr>\n",
       "      <th>9</th>\n",
       "      <td>267</td>\n",
       "      <td>City</td>\n",
       "      <td>2.0</td>\n",
       "      <td>Trip Completed</td>\n",
       "      <td>11/7/2016 6:46</td>\n",
       "      <td>11/7/2016 7:25</td>\n",
       "    </tr>\n",
       "  </tbody>\n",
       "</table>\n",
       "</div>"
      ],
      "text/plain": [
       "   Request id Pickup point  Driver id          Status    Request timestamp  \\\n",
       "0         619      Airport        1.0  Trip Completed      11/7/2016 11:51   \n",
       "1         867      Airport        1.0  Trip Completed      11/7/2016 17:57   \n",
       "2        1807         City        1.0  Trip Completed       12/7/2016 9:17   \n",
       "3        2532      Airport        1.0  Trip Completed      12/7/2016 21:08   \n",
       "4        3112         City        1.0  Trip Completed  13-07-2016 08:33:16   \n",
       "5        3879      Airport        1.0  Trip Completed  13-07-2016 21:57:28   \n",
       "6        4270      Airport        1.0  Trip Completed  14-07-2016 06:15:32   \n",
       "7        5510      Airport        1.0  Trip Completed  15-07-2016 05:11:52   \n",
       "8        6248         City        1.0  Trip Completed  15-07-2016 17:57:27   \n",
       "9         267         City        2.0  Trip Completed       11/7/2016 6:46   \n",
       "\n",
       "        Drop timestamp  \n",
       "0      11/7/2016 13:00  \n",
       "1      11/7/2016 18:47  \n",
       "2       12/7/2016 9:58  \n",
       "3      12/7/2016 22:03  \n",
       "4  13-07-2016 09:25:47  \n",
       "5  13-07-2016 22:28:59  \n",
       "6  14-07-2016 07:13:15  \n",
       "7  15-07-2016 06:07:52  \n",
       "8  15-07-2016 18:50:51  \n",
       "9       11/7/2016 7:25  "
      ]
     },
     "execution_count": 135,
     "metadata": {},
     "output_type": "execute_result"
    }
   ],
   "source": [
    "# Reading Data from csv file\n",
    "UberRequestData = pd.read_csv(\"Uber Request Data.csv\")\n",
    "UberRequestData.head(10)"
   ]
  },
  {
   "cell_type": "code",
   "execution_count": 136,
   "metadata": {},
   "outputs": [
    {
     "name": "stdout",
     "output_type": "stream",
     "text": [
      "<class 'pandas.core.frame.DataFrame'>\n",
      "RangeIndex: 6745 entries, 0 to 6744\n",
      "Data columns (total 6 columns):\n",
      "Request id           6745 non-null int64\n",
      "Pickup point         6745 non-null object\n",
      "Driver id            4095 non-null float64\n",
      "Status               6745 non-null object\n",
      "Request timestamp    6745 non-null object\n",
      "Drop timestamp       2831 non-null object\n",
      "dtypes: float64(1), int64(1), object(4)\n",
      "memory usage: 316.2+ KB\n"
     ]
    }
   ],
   "source": [
    "#Enquiring about the Data \n",
    "UberRequestData.info()\n"
   ]
  },
  {
   "cell_type": "code",
   "execution_count": 137,
   "metadata": {},
   "outputs": [
    {
     "data": {
      "text/plain": [
       "Request id            0.000000\n",
       "Pickup point          0.000000\n",
       "Driver id            39.288362\n",
       "Status                0.000000\n",
       "Request timestamp     0.000000\n",
       "Drop timestamp       58.028169\n",
       "dtype: float64"
      ]
     },
     "execution_count": 137,
     "metadata": {},
     "output_type": "execute_result"
    }
   ],
   "source": [
    "#Finding the number of null values in dataframe\n",
    "UberRequestData.isnull().sum()/len(UberRequestData.index)*100"
   ]
  },
  {
   "cell_type": "code",
   "execution_count": 138,
   "metadata": {},
   "outputs": [
    {
     "name": "stdout",
     "output_type": "stream",
     "text": [
      "<class 'pandas.core.frame.DataFrame'>\n",
      "RangeIndex: 6745 entries, 0 to 6744\n",
      "Data columns (total 6 columns):\n",
      "Request id           6745 non-null int64\n",
      "Pickup point         6745 non-null object\n",
      "Driver id            4095 non-null float64\n",
      "Status               6745 non-null object\n",
      "Request timestamp    6745 non-null datetime64[ns]\n",
      "Drop timestamp       2831 non-null object\n",
      "dtypes: datetime64[ns](1), float64(1), int64(1), object(3)\n",
      "memory usage: 316.2+ KB\n"
     ]
    }
   ],
   "source": [
    "#Converting Timestamp column to Data type\n",
    "UberRequestData['Request timestamp']=pd.to_datetime(UberRequestData['Request timestamp'])\n",
    "UberRequestData.info()"
   ]
  },
  {
   "cell_type": "markdown",
   "metadata": {},
   "source": [
    "## Cleaning Data"
   ]
  },
  {
   "cell_type": "code",
   "execution_count": 139,
   "metadata": {},
   "outputs": [
    {
     "data": {
      "text/html": [
       "<div>\n",
       "<style scoped>\n",
       "    .dataframe tbody tr th:only-of-type {\n",
       "        vertical-align: middle;\n",
       "    }\n",
       "\n",
       "    .dataframe tbody tr th {\n",
       "        vertical-align: top;\n",
       "    }\n",
       "\n",
       "    .dataframe thead th {\n",
       "        text-align: right;\n",
       "    }\n",
       "</style>\n",
       "<table border=\"1\" class=\"dataframe\">\n",
       "  <thead>\n",
       "    <tr style=\"text-align: right;\">\n",
       "      <th></th>\n",
       "      <th>Request id</th>\n",
       "      <th>Pickup point</th>\n",
       "      <th>Status</th>\n",
       "      <th>Request timestamp</th>\n",
       "    </tr>\n",
       "  </thead>\n",
       "  <tbody>\n",
       "    <tr>\n",
       "      <th>0</th>\n",
       "      <td>619</td>\n",
       "      <td>Airport</td>\n",
       "      <td>Trip Completed</td>\n",
       "      <td>2016-11-07 11:51:00</td>\n",
       "    </tr>\n",
       "    <tr>\n",
       "      <th>1</th>\n",
       "      <td>867</td>\n",
       "      <td>Airport</td>\n",
       "      <td>Trip Completed</td>\n",
       "      <td>2016-11-07 17:57:00</td>\n",
       "    </tr>\n",
       "    <tr>\n",
       "      <th>2</th>\n",
       "      <td>1807</td>\n",
       "      <td>City</td>\n",
       "      <td>Trip Completed</td>\n",
       "      <td>2016-12-07 09:17:00</td>\n",
       "    </tr>\n",
       "    <tr>\n",
       "      <th>3</th>\n",
       "      <td>2532</td>\n",
       "      <td>Airport</td>\n",
       "      <td>Trip Completed</td>\n",
       "      <td>2016-12-07 21:08:00</td>\n",
       "    </tr>\n",
       "    <tr>\n",
       "      <th>4</th>\n",
       "      <td>3112</td>\n",
       "      <td>City</td>\n",
       "      <td>Trip Completed</td>\n",
       "      <td>2016-07-13 08:33:16</td>\n",
       "    </tr>\n",
       "  </tbody>\n",
       "</table>\n",
       "</div>"
      ],
      "text/plain": [
       "   Request id Pickup point          Status   Request timestamp\n",
       "0         619      Airport  Trip Completed 2016-11-07 11:51:00\n",
       "1         867      Airport  Trip Completed 2016-11-07 17:57:00\n",
       "2        1807         City  Trip Completed 2016-12-07 09:17:00\n",
       "3        2532      Airport  Trip Completed 2016-12-07 21:08:00\n",
       "4        3112         City  Trip Completed 2016-07-13 08:33:16"
      ]
     },
     "execution_count": 139,
     "metadata": {},
     "output_type": "execute_result"
    }
   ],
   "source": [
    "# Cleaning Data of Unnecessary Information i.e dropping Drop Timestamp as this field is null for all incompleted or\n",
    "# unfulfilled requests and Dropping Driver Id as it is not needed for analysis.\n",
    "UberRequestData = UberRequestData.drop(['Drop timestamp', 'Driver id'],axis = 1)\n",
    "UberRequestData.head()"
   ]
  },
  {
   "cell_type": "code",
   "execution_count": 140,
   "metadata": {},
   "outputs": [
    {
     "data": {
      "text/plain": [
       "Request id           0.0\n",
       "Pickup point         0.0\n",
       "Status               0.0\n",
       "Request timestamp    0.0\n",
       "dtype: float64"
      ]
     },
     "execution_count": 140,
     "metadata": {},
     "output_type": "execute_result"
    }
   ],
   "source": [
    "#Finding the number of null values in dataframe after dropping 2 columns\n",
    "UberRequestData.isnull().sum()/len(UberRequestData.index)*100"
   ]
  },
  {
   "cell_type": "markdown",
   "metadata": {},
   "source": [
    "## Creating Derived Columns"
   ]
  },
  {
   "cell_type": "markdown",
   "metadata": {},
   "source": [
    "### Creating Request Time Slot Column"
   ]
  },
  {
   "cell_type": "code",
   "execution_count": 141,
   "metadata": {},
   "outputs": [
    {
     "data": {
      "text/html": [
       "<div>\n",
       "<style scoped>\n",
       "    .dataframe tbody tr th:only-of-type {\n",
       "        vertical-align: middle;\n",
       "    }\n",
       "\n",
       "    .dataframe tbody tr th {\n",
       "        vertical-align: top;\n",
       "    }\n",
       "\n",
       "    .dataframe thead th {\n",
       "        text-align: right;\n",
       "    }\n",
       "</style>\n",
       "<table border=\"1\" class=\"dataframe\">\n",
       "  <thead>\n",
       "    <tr style=\"text-align: right;\">\n",
       "      <th></th>\n",
       "      <th>Request id</th>\n",
       "      <th>Pickup point</th>\n",
       "      <th>Status</th>\n",
       "      <th>Request timestamp</th>\n",
       "      <th>Request_TimeSlot</th>\n",
       "    </tr>\n",
       "  </thead>\n",
       "  <tbody>\n",
       "    <tr>\n",
       "      <th>0</th>\n",
       "      <td>619</td>\n",
       "      <td>Airport</td>\n",
       "      <td>Trip Completed</td>\n",
       "      <td>2016-11-07 11:51:00</td>\n",
       "      <td>Morning</td>\n",
       "    </tr>\n",
       "    <tr>\n",
       "      <th>1</th>\n",
       "      <td>867</td>\n",
       "      <td>Airport</td>\n",
       "      <td>Trip Completed</td>\n",
       "      <td>2016-11-07 17:57:00</td>\n",
       "      <td>Afternoon</td>\n",
       "    </tr>\n",
       "    <tr>\n",
       "      <th>2</th>\n",
       "      <td>1807</td>\n",
       "      <td>City</td>\n",
       "      <td>Trip Completed</td>\n",
       "      <td>2016-12-07 09:17:00</td>\n",
       "      <td>Morning</td>\n",
       "    </tr>\n",
       "    <tr>\n",
       "      <th>3</th>\n",
       "      <td>2532</td>\n",
       "      <td>Airport</td>\n",
       "      <td>Trip Completed</td>\n",
       "      <td>2016-12-07 21:08:00</td>\n",
       "      <td>Late Evening</td>\n",
       "    </tr>\n",
       "    <tr>\n",
       "      <th>4</th>\n",
       "      <td>3112</td>\n",
       "      <td>City</td>\n",
       "      <td>Trip Completed</td>\n",
       "      <td>2016-07-13 08:33:16</td>\n",
       "      <td>Morning</td>\n",
       "    </tr>\n",
       "  </tbody>\n",
       "</table>\n",
       "</div>"
      ],
      "text/plain": [
       "   Request id Pickup point          Status   Request timestamp  \\\n",
       "0         619      Airport  Trip Completed 2016-11-07 11:51:00   \n",
       "1         867      Airport  Trip Completed 2016-11-07 17:57:00   \n",
       "2        1807         City  Trip Completed 2016-12-07 09:17:00   \n",
       "3        2532      Airport  Trip Completed 2016-12-07 21:08:00   \n",
       "4        3112         City  Trip Completed 2016-07-13 08:33:16   \n",
       "\n",
       "  Request_TimeSlot  \n",
       "0          Morning  \n",
       "1        Afternoon  \n",
       "2          Morning  \n",
       "3     Late Evening  \n",
       "4          Morning  "
      ]
     },
     "execution_count": 141,
     "metadata": {},
     "output_type": "execute_result"
    }
   ],
   "source": [
    "#Creating a Request_Timeslot column to get the period of the request made. This field is very important as to know at which \n",
    "# duration of the day customers are facing problems mostly, i.e. during Early Morning hours, Late Evening hours etc.\n",
    "UberRequestData = UberRequestData.assign(\n",
    "    Request_TimeSlot=pd.cut(\n",
    "        UberRequestData[\"Request timestamp\"].dt.hour,\n",
    "        [-1,5,11,17,23],\n",
    "        labels=['Early Morning', 'Morning', 'Afternoon', 'Late Evening']))\n",
    "UberRequestData.head()"
   ]
  },
  {
   "cell_type": "code",
   "execution_count": 142,
   "metadata": {},
   "outputs": [],
   "source": [
    "#Number of times Uber booking request is received at the different Day Slots.\n",
    "UberRequests = UberRequestData.groupby('Request_TimeSlot')['Request timestamp'].count()"
   ]
  },
  {
   "cell_type": "markdown",
   "metadata": {},
   "source": [
    "### Creating Day of Week Column"
   ]
  },
  {
   "cell_type": "code",
   "execution_count": 143,
   "metadata": {},
   "outputs": [
    {
     "data": {
      "text/html": [
       "<div>\n",
       "<style scoped>\n",
       "    .dataframe tbody tr th:only-of-type {\n",
       "        vertical-align: middle;\n",
       "    }\n",
       "\n",
       "    .dataframe tbody tr th {\n",
       "        vertical-align: top;\n",
       "    }\n",
       "\n",
       "    .dataframe thead th {\n",
       "        text-align: right;\n",
       "    }\n",
       "</style>\n",
       "<table border=\"1\" class=\"dataframe\">\n",
       "  <thead>\n",
       "    <tr style=\"text-align: right;\">\n",
       "      <th></th>\n",
       "      <th>Request id</th>\n",
       "      <th>Pickup point</th>\n",
       "      <th>Status</th>\n",
       "      <th>Request timestamp</th>\n",
       "      <th>Request_TimeSlot</th>\n",
       "      <th>Day of Week</th>\n",
       "    </tr>\n",
       "  </thead>\n",
       "  <tbody>\n",
       "    <tr>\n",
       "      <th>0</th>\n",
       "      <td>619</td>\n",
       "      <td>Airport</td>\n",
       "      <td>Trip Completed</td>\n",
       "      <td>2016-11-07 11:51:00</td>\n",
       "      <td>Morning</td>\n",
       "      <td>Monday</td>\n",
       "    </tr>\n",
       "    <tr>\n",
       "      <th>1</th>\n",
       "      <td>867</td>\n",
       "      <td>Airport</td>\n",
       "      <td>Trip Completed</td>\n",
       "      <td>2016-11-07 17:57:00</td>\n",
       "      <td>Afternoon</td>\n",
       "      <td>Monday</td>\n",
       "    </tr>\n",
       "    <tr>\n",
       "      <th>2</th>\n",
       "      <td>1807</td>\n",
       "      <td>City</td>\n",
       "      <td>Trip Completed</td>\n",
       "      <td>2016-12-07 09:17:00</td>\n",
       "      <td>Morning</td>\n",
       "      <td>Wednesday</td>\n",
       "    </tr>\n",
       "    <tr>\n",
       "      <th>3</th>\n",
       "      <td>2532</td>\n",
       "      <td>Airport</td>\n",
       "      <td>Trip Completed</td>\n",
       "      <td>2016-12-07 21:08:00</td>\n",
       "      <td>Late Evening</td>\n",
       "      <td>Wednesday</td>\n",
       "    </tr>\n",
       "    <tr>\n",
       "      <th>4</th>\n",
       "      <td>3112</td>\n",
       "      <td>City</td>\n",
       "      <td>Trip Completed</td>\n",
       "      <td>2016-07-13 08:33:16</td>\n",
       "      <td>Morning</td>\n",
       "      <td>Wednesday</td>\n",
       "    </tr>\n",
       "  </tbody>\n",
       "</table>\n",
       "</div>"
      ],
      "text/plain": [
       "   Request id Pickup point          Status   Request timestamp  \\\n",
       "0         619      Airport  Trip Completed 2016-11-07 11:51:00   \n",
       "1         867      Airport  Trip Completed 2016-11-07 17:57:00   \n",
       "2        1807         City  Trip Completed 2016-12-07 09:17:00   \n",
       "3        2532      Airport  Trip Completed 2016-12-07 21:08:00   \n",
       "4        3112         City  Trip Completed 2016-07-13 08:33:16   \n",
       "\n",
       "  Request_TimeSlot Day of Week  \n",
       "0          Morning      Monday  \n",
       "1        Afternoon      Monday  \n",
       "2          Morning   Wednesday  \n",
       "3     Late Evening   Wednesday  \n",
       "4          Morning   Wednesday  "
      ]
     },
     "execution_count": 143,
     "metadata": {},
     "output_type": "execute_result"
    }
   ],
   "source": [
    "#Creating a derived column AS 'Day of Week'. It records the day of the request\n",
    "UberRequestData['Day of Week'] = UberRequestData['Request timestamp'].dt.day_name()\n",
    "UberRequestData.head()"
   ]
  },
  {
   "cell_type": "markdown",
   "metadata": {},
   "source": [
    "### Creating Hour of request column"
   ]
  },
  {
   "cell_type": "code",
   "execution_count": 144,
   "metadata": {},
   "outputs": [
    {
     "data": {
      "text/html": [
       "<div>\n",
       "<style scoped>\n",
       "    .dataframe tbody tr th:only-of-type {\n",
       "        vertical-align: middle;\n",
       "    }\n",
       "\n",
       "    .dataframe tbody tr th {\n",
       "        vertical-align: top;\n",
       "    }\n",
       "\n",
       "    .dataframe thead th {\n",
       "        text-align: right;\n",
       "    }\n",
       "</style>\n",
       "<table border=\"1\" class=\"dataframe\">\n",
       "  <thead>\n",
       "    <tr style=\"text-align: right;\">\n",
       "      <th></th>\n",
       "      <th>Request id</th>\n",
       "      <th>Pickup point</th>\n",
       "      <th>Status</th>\n",
       "      <th>Request timestamp</th>\n",
       "      <th>Request_TimeSlot</th>\n",
       "      <th>Day of Week</th>\n",
       "      <th>Hour of Request</th>\n",
       "    </tr>\n",
       "  </thead>\n",
       "  <tbody>\n",
       "    <tr>\n",
       "      <th>0</th>\n",
       "      <td>619</td>\n",
       "      <td>Airport</td>\n",
       "      <td>Trip Completed</td>\n",
       "      <td>2016-11-07 11:51:00</td>\n",
       "      <td>Morning</td>\n",
       "      <td>Monday</td>\n",
       "      <td>11</td>\n",
       "    </tr>\n",
       "    <tr>\n",
       "      <th>1</th>\n",
       "      <td>867</td>\n",
       "      <td>Airport</td>\n",
       "      <td>Trip Completed</td>\n",
       "      <td>2016-11-07 17:57:00</td>\n",
       "      <td>Afternoon</td>\n",
       "      <td>Monday</td>\n",
       "      <td>17</td>\n",
       "    </tr>\n",
       "    <tr>\n",
       "      <th>2</th>\n",
       "      <td>1807</td>\n",
       "      <td>City</td>\n",
       "      <td>Trip Completed</td>\n",
       "      <td>2016-12-07 09:17:00</td>\n",
       "      <td>Morning</td>\n",
       "      <td>Wednesday</td>\n",
       "      <td>9</td>\n",
       "    </tr>\n",
       "    <tr>\n",
       "      <th>3</th>\n",
       "      <td>2532</td>\n",
       "      <td>Airport</td>\n",
       "      <td>Trip Completed</td>\n",
       "      <td>2016-12-07 21:08:00</td>\n",
       "      <td>Late Evening</td>\n",
       "      <td>Wednesday</td>\n",
       "      <td>21</td>\n",
       "    </tr>\n",
       "    <tr>\n",
       "      <th>4</th>\n",
       "      <td>3112</td>\n",
       "      <td>City</td>\n",
       "      <td>Trip Completed</td>\n",
       "      <td>2016-07-13 08:33:16</td>\n",
       "      <td>Morning</td>\n",
       "      <td>Wednesday</td>\n",
       "      <td>8</td>\n",
       "    </tr>\n",
       "  </tbody>\n",
       "</table>\n",
       "</div>"
      ],
      "text/plain": [
       "   Request id Pickup point          Status   Request timestamp  \\\n",
       "0         619      Airport  Trip Completed 2016-11-07 11:51:00   \n",
       "1         867      Airport  Trip Completed 2016-11-07 17:57:00   \n",
       "2        1807         City  Trip Completed 2016-12-07 09:17:00   \n",
       "3        2532      Airport  Trip Completed 2016-12-07 21:08:00   \n",
       "4        3112         City  Trip Completed 2016-07-13 08:33:16   \n",
       "\n",
       "  Request_TimeSlot Day of Week  Hour of Request  \n",
       "0          Morning      Monday               11  \n",
       "1        Afternoon      Monday               17  \n",
       "2          Morning   Wednesday                9  \n",
       "3     Late Evening   Wednesday               21  \n",
       "4          Morning   Wednesday                8  "
      ]
     },
     "execution_count": 144,
     "metadata": {},
     "output_type": "execute_result"
    }
   ],
   "source": [
    "#Creating a derived column As 'Hour of Request'. It records the hour at which request is made.\n",
    "UberRequestData['Hour of Request'] = UberRequestData['Request timestamp'].dt.hour\n",
    "UberRequestData.head()"
   ]
  },
  {
   "cell_type": "code",
   "execution_count": 145,
   "metadata": {},
   "outputs": [
    {
     "data": {
      "text/plain": [
       "<seaborn.axisgrid.FacetGrid at 0x2bbe8e6ad30>"
      ]
     },
     "execution_count": 145,
     "metadata": {},
     "output_type": "execute_result"
    },
    {
     "data": {
      "text/plain": [
       "<Figure size 720x504 with 0 Axes>"
      ]
     },
     "metadata": {},
     "output_type": "display_data"
    },
    {
     "data": {
      "image/png": "[encoded data removed]",
      "text/plain": [
       "<Figure size 467.725x360 with 1 Axes>"
      ]
     },
     "metadata": {},
     "output_type": "display_data"
    }
   ],
   "source": [
    "#Finding out the timeslot when the demand is high for Uber.\n",
    "plt.figure(figsize=(10, 7))\n",
    "sns.catplot(x = 'Day of Week', kind = 'count', hue = 'Request_TimeSlot', data =UberRequestData)"
   ]
  },
  {
   "cell_type": "markdown",
   "metadata": {},
   "source": [
    "## 1. More pressing problem for Uber - Cancelled Rides or Car Not Available "
   ]
  },
  {
   "cell_type": "code",
   "execution_count": 146,
   "metadata": {},
   "outputs": [
    {
     "data": {
      "text/html": [
       "<div>\n",
       "<style scoped>\n",
       "    .dataframe tbody tr th:only-of-type {\n",
       "        vertical-align: middle;\n",
       "    }\n",
       "\n",
       "    .dataframe tbody tr th {\n",
       "        vertical-align: top;\n",
       "    }\n",
       "\n",
       "    .dataframe thead th {\n",
       "        text-align: right;\n",
       "    }\n",
       "</style>\n",
       "<table border=\"1\" class=\"dataframe\">\n",
       "  <thead>\n",
       "    <tr style=\"text-align: right;\">\n",
       "      <th></th>\n",
       "      <th>Request id</th>\n",
       "      <th>Pickup point</th>\n",
       "      <th>Status</th>\n",
       "      <th>Request timestamp</th>\n",
       "      <th>Request_TimeSlot</th>\n",
       "      <th>Day of Week</th>\n",
       "      <th>Hour of Request</th>\n",
       "    </tr>\n",
       "  </thead>\n",
       "  <tbody>\n",
       "    <tr>\n",
       "      <th>2831</th>\n",
       "      <td>2905</td>\n",
       "      <td>City</td>\n",
       "      <td>Cancelled</td>\n",
       "      <td>2016-07-13 06:08:41</td>\n",
       "      <td>Morning</td>\n",
       "      <td>Wednesday</td>\n",
       "      <td>6</td>\n",
       "    </tr>\n",
       "    <tr>\n",
       "      <th>2832</th>\n",
       "      <td>4805</td>\n",
       "      <td>City</td>\n",
       "      <td>Cancelled</td>\n",
       "      <td>2016-07-14 17:07:58</td>\n",
       "      <td>Afternoon</td>\n",
       "      <td>Thursday</td>\n",
       "      <td>17</td>\n",
       "    </tr>\n",
       "    <tr>\n",
       "      <th>2833</th>\n",
       "      <td>5202</td>\n",
       "      <td>Airport</td>\n",
       "      <td>Cancelled</td>\n",
       "      <td>2016-07-14 20:51:37</td>\n",
       "      <td>Late Evening</td>\n",
       "      <td>Thursday</td>\n",
       "      <td>20</td>\n",
       "    </tr>\n",
       "    <tr>\n",
       "      <th>2834</th>\n",
       "      <td>5927</td>\n",
       "      <td>City</td>\n",
       "      <td>Cancelled</td>\n",
       "      <td>2016-07-15 10:12:40</td>\n",
       "      <td>Morning</td>\n",
       "      <td>Friday</td>\n",
       "      <td>10</td>\n",
       "    </tr>\n",
       "    <tr>\n",
       "      <th>2835</th>\n",
       "      <td>2347</td>\n",
       "      <td>Airport</td>\n",
       "      <td>Cancelled</td>\n",
       "      <td>2016-12-07 19:14:00</td>\n",
       "      <td>Late Evening</td>\n",
       "      <td>Wednesday</td>\n",
       "      <td>19</td>\n",
       "    </tr>\n",
       "  </tbody>\n",
       "</table>\n",
       "</div>"
      ],
      "text/plain": [
       "      Request id Pickup point     Status   Request timestamp Request_TimeSlot  \\\n",
       "2831        2905         City  Cancelled 2016-07-13 06:08:41          Morning   \n",
       "2832        4805         City  Cancelled 2016-07-14 17:07:58        Afternoon   \n",
       "2833        5202      Airport  Cancelled 2016-07-14 20:51:37     Late Evening   \n",
       "2834        5927         City  Cancelled 2016-07-15 10:12:40          Morning   \n",
       "2835        2347      Airport  Cancelled 2016-12-07 19:14:00     Late Evening   \n",
       "\n",
       "     Day of Week  Hour of Request  \n",
       "2831   Wednesday                6  \n",
       "2832    Thursday               17  \n",
       "2833    Thursday               20  \n",
       "2834      Friday               10  \n",
       "2835   Wednesday               19  "
      ]
     },
     "execution_count": 146,
     "metadata": {},
     "output_type": "execute_result"
    }
   ],
   "source": [
    "# Creating a new DataFrame containing only the unfulfiled requests for Uber(Cancelled or Car Not Available)\n",
    "# i.e non - Trip Completed Requests\n",
    "UnfulfiledTripsData = UberRequestData[UberRequestData.Status != \"Trip Completed\"]\n",
    "UnfulfiledTripsData.head()\n"
   ]
  },
  {
   "cell_type": "code",
   "execution_count": 147,
   "metadata": {
    "scrolled": true
   },
   "outputs": [
    {
     "data": {
      "text/html": [
       "<div>\n",
       "<style scoped>\n",
       "    .dataframe tbody tr th:only-of-type {\n",
       "        vertical-align: middle;\n",
       "    }\n",
       "\n",
       "    .dataframe tbody tr th {\n",
       "        vertical-align: top;\n",
       "    }\n",
       "\n",
       "    .dataframe thead th {\n",
       "        text-align: right;\n",
       "    }\n",
       "</style>\n",
       "<table border=\"1\" class=\"dataframe\">\n",
       "  <thead>\n",
       "    <tr style=\"text-align: right;\">\n",
       "      <th></th>\n",
       "      <th>Request id</th>\n",
       "      <th>Pickup point</th>\n",
       "      <th>Status</th>\n",
       "      <th>Request timestamp</th>\n",
       "      <th>Request_TimeSlot</th>\n",
       "      <th>Day of Week</th>\n",
       "      <th>Hour of Request</th>\n",
       "    </tr>\n",
       "  </thead>\n",
       "  <tbody>\n",
       "    <tr>\n",
       "      <th>6740</th>\n",
       "      <td>6745</td>\n",
       "      <td>City</td>\n",
       "      <td>No Cars Available</td>\n",
       "      <td>2016-07-15 23:49:03</td>\n",
       "      <td>Late Evening</td>\n",
       "      <td>Friday</td>\n",
       "      <td>23</td>\n",
       "    </tr>\n",
       "    <tr>\n",
       "      <th>6741</th>\n",
       "      <td>6752</td>\n",
       "      <td>Airport</td>\n",
       "      <td>No Cars Available</td>\n",
       "      <td>2016-07-15 23:50:05</td>\n",
       "      <td>Late Evening</td>\n",
       "      <td>Friday</td>\n",
       "      <td>23</td>\n",
       "    </tr>\n",
       "    <tr>\n",
       "      <th>6742</th>\n",
       "      <td>6751</td>\n",
       "      <td>City</td>\n",
       "      <td>No Cars Available</td>\n",
       "      <td>2016-07-15 23:52:06</td>\n",
       "      <td>Late Evening</td>\n",
       "      <td>Friday</td>\n",
       "      <td>23</td>\n",
       "    </tr>\n",
       "    <tr>\n",
       "      <th>6743</th>\n",
       "      <td>6754</td>\n",
       "      <td>City</td>\n",
       "      <td>No Cars Available</td>\n",
       "      <td>2016-07-15 23:54:39</td>\n",
       "      <td>Late Evening</td>\n",
       "      <td>Friday</td>\n",
       "      <td>23</td>\n",
       "    </tr>\n",
       "    <tr>\n",
       "      <th>6744</th>\n",
       "      <td>6753</td>\n",
       "      <td>Airport</td>\n",
       "      <td>No Cars Available</td>\n",
       "      <td>2016-07-15 23:55:03</td>\n",
       "      <td>Late Evening</td>\n",
       "      <td>Friday</td>\n",
       "      <td>23</td>\n",
       "    </tr>\n",
       "  </tbody>\n",
       "</table>\n",
       "</div>"
      ],
      "text/plain": [
       "      Request id Pickup point             Status   Request timestamp  \\\n",
       "6740        6745         City  No Cars Available 2016-07-15 23:49:03   \n",
       "6741        6752      Airport  No Cars Available 2016-07-15 23:50:05   \n",
       "6742        6751         City  No Cars Available 2016-07-15 23:52:06   \n",
       "6743        6754         City  No Cars Available 2016-07-15 23:54:39   \n",
       "6744        6753      Airport  No Cars Available 2016-07-15 23:55:03   \n",
       "\n",
       "     Request_TimeSlot Day of Week  Hour of Request  \n",
       "6740     Late Evening      Friday               23  \n",
       "6741     Late Evening      Friday               23  \n",
       "6742     Late Evening      Friday               23  \n",
       "6743     Late Evening      Friday               23  \n",
       "6744     Late Evening      Friday               23  "
      ]
     },
     "execution_count": 147,
     "metadata": {},
     "output_type": "execute_result"
    }
   ],
   "source": [
    "UnfulfiledTripsData.tail()"
   ]
  },
  {
   "cell_type": "markdown",
   "metadata": {},
   "source": [
    "##  A bar plot showing the difference clearly between the two issues"
   ]
  },
  {
   "cell_type": "code",
   "execution_count": 148,
   "metadata": {},
   "outputs": [
    {
     "data": {
      "image/png": "[encoded data removed]",
      "text/plain": [
       "<Figure size 288x360 with 1 Axes>"
      ]
     },
     "metadata": {},
     "output_type": "display_data"
    }
   ],
   "source": [
    "\n",
    "plt.figure(figsize=(4, 5))\n",
    "sns.countplot(x=\"Status\", data=UnfulfiledTripsData, palette=\"pastel\", edgecolor = \".6\" )\n",
    "plt.show()"
   ]
  },
  {
   "cell_type": "markdown",
   "metadata": {},
   "source": [
    "##  A bar plot to diffentiate the unfulfilled requests based on Pickup Point\n",
    "### - Airport or City -"
   ]
  },
  {
   "cell_type": "code",
   "execution_count": 149,
   "metadata": {},
   "outputs": [
    {
     "data": {
      "text/plain": [
       "<Figure size 432x288 with 0 Axes>"
      ]
     },
     "metadata": {},
     "output_type": "display_data"
    },
    {
     "data": {
      "image/png": "[encoded data removed]",
      "text/plain": [
       "<Figure size 432.35x360 with 1 Axes>"
      ]
     },
     "metadata": {},
     "output_type": "display_data"
    }
   ],
   "source": [
    "plt.figure(figsize=(6, 4))\n",
    "sns.catplot(x=\"Status\", hue=\"Pickup point\", kind=\"count\", palette=\"pastel\", edgecolor=\".6\", data=UnfulfiledTripsData);\n",
    "plt.show()"
   ]
  },
  {
   "cell_type": "code",
   "execution_count": 150,
   "metadata": {},
   "outputs": [
    {
     "data": {
      "text/html": [
       "<div>\n",
       "<style scoped>\n",
       "    .dataframe tbody tr th:only-of-type {\n",
       "        vertical-align: middle;\n",
       "    }\n",
       "\n",
       "    .dataframe tbody tr th {\n",
       "        vertical-align: top;\n",
       "    }\n",
       "\n",
       "    .dataframe thead th {\n",
       "        text-align: right;\n",
       "    }\n",
       "</style>\n",
       "<table border=\"1\" class=\"dataframe\">\n",
       "  <thead>\n",
       "    <tr style=\"text-align: right;\">\n",
       "      <th></th>\n",
       "      <th>Request id</th>\n",
       "      <th>Pickup point</th>\n",
       "      <th>Status</th>\n",
       "      <th>Request timestamp</th>\n",
       "      <th>Request_TimeSlot</th>\n",
       "      <th>Day of Week</th>\n",
       "      <th>Hour of Request</th>\n",
       "    </tr>\n",
       "  </thead>\n",
       "  <tbody>\n",
       "    <tr>\n",
       "      <th>2831</th>\n",
       "      <td>2905</td>\n",
       "      <td>City</td>\n",
       "      <td>Cancelled</td>\n",
       "      <td>2016-07-13 06:08:41</td>\n",
       "      <td>Morning</td>\n",
       "      <td>Wednesday</td>\n",
       "      <td>6</td>\n",
       "    </tr>\n",
       "    <tr>\n",
       "      <th>2832</th>\n",
       "      <td>4805</td>\n",
       "      <td>City</td>\n",
       "      <td>Cancelled</td>\n",
       "      <td>2016-07-14 17:07:58</td>\n",
       "      <td>Afternoon</td>\n",
       "      <td>Thursday</td>\n",
       "      <td>17</td>\n",
       "    </tr>\n",
       "    <tr>\n",
       "      <th>2833</th>\n",
       "      <td>5202</td>\n",
       "      <td>Airport</td>\n",
       "      <td>Cancelled</td>\n",
       "      <td>2016-07-14 20:51:37</td>\n",
       "      <td>Late Evening</td>\n",
       "      <td>Thursday</td>\n",
       "      <td>20</td>\n",
       "    </tr>\n",
       "    <tr>\n",
       "      <th>2834</th>\n",
       "      <td>5927</td>\n",
       "      <td>City</td>\n",
       "      <td>Cancelled</td>\n",
       "      <td>2016-07-15 10:12:40</td>\n",
       "      <td>Morning</td>\n",
       "      <td>Friday</td>\n",
       "      <td>10</td>\n",
       "    </tr>\n",
       "    <tr>\n",
       "      <th>2835</th>\n",
       "      <td>2347</td>\n",
       "      <td>Airport</td>\n",
       "      <td>Cancelled</td>\n",
       "      <td>2016-12-07 19:14:00</td>\n",
       "      <td>Late Evening</td>\n",
       "      <td>Wednesday</td>\n",
       "      <td>19</td>\n",
       "    </tr>\n",
       "    <tr>\n",
       "      <th>2836</th>\n",
       "      <td>3806</td>\n",
       "      <td>Airport</td>\n",
       "      <td>Cancelled</td>\n",
       "      <td>2016-07-13 20:57:49</td>\n",
       "      <td>Late Evening</td>\n",
       "      <td>Wednesday</td>\n",
       "      <td>20</td>\n",
       "    </tr>\n",
       "    <tr>\n",
       "      <th>2837</th>\n",
       "      <td>4451</td>\n",
       "      <td>City</td>\n",
       "      <td>Cancelled</td>\n",
       "      <td>2016-07-14 08:38:38</td>\n",
       "      <td>Morning</td>\n",
       "      <td>Thursday</td>\n",
       "      <td>8</td>\n",
       "    </tr>\n",
       "    <tr>\n",
       "      <th>2838</th>\n",
       "      <td>5023</td>\n",
       "      <td>Airport</td>\n",
       "      <td>Cancelled</td>\n",
       "      <td>2016-07-14 19:04:08</td>\n",
       "      <td>Late Evening</td>\n",
       "      <td>Thursday</td>\n",
       "      <td>19</td>\n",
       "    </tr>\n",
       "    <tr>\n",
       "      <th>2839</th>\n",
       "      <td>80</td>\n",
       "      <td>City</td>\n",
       "      <td>Cancelled</td>\n",
       "      <td>2016-11-07 04:47:00</td>\n",
       "      <td>Early Morning</td>\n",
       "      <td>Monday</td>\n",
       "      <td>4</td>\n",
       "    </tr>\n",
       "    <tr>\n",
       "      <th>2840</th>\n",
       "      <td>534</td>\n",
       "      <td>City</td>\n",
       "      <td>Cancelled</td>\n",
       "      <td>2016-11-07 10:01:00</td>\n",
       "      <td>Morning</td>\n",
       "      <td>Monday</td>\n",
       "      <td>10</td>\n",
       "    </tr>\n",
       "  </tbody>\n",
       "</table>\n",
       "</div>"
      ],
      "text/plain": [
       "      Request id Pickup point     Status   Request timestamp Request_TimeSlot  \\\n",
       "2831        2905         City  Cancelled 2016-07-13 06:08:41          Morning   \n",
       "2832        4805         City  Cancelled 2016-07-14 17:07:58        Afternoon   \n",
       "2833        5202      Airport  Cancelled 2016-07-14 20:51:37     Late Evening   \n",
       "2834        5927         City  Cancelled 2016-07-15 10:12:40          Morning   \n",
       "2835        2347      Airport  Cancelled 2016-12-07 19:14:00     Late Evening   \n",
       "2836        3806      Airport  Cancelled 2016-07-13 20:57:49     Late Evening   \n",
       "2837        4451         City  Cancelled 2016-07-14 08:38:38          Morning   \n",
       "2838        5023      Airport  Cancelled 2016-07-14 19:04:08     Late Evening   \n",
       "2839          80         City  Cancelled 2016-11-07 04:47:00    Early Morning   \n",
       "2840         534         City  Cancelled 2016-11-07 10:01:00          Morning   \n",
       "\n",
       "     Day of Week  Hour of Request  \n",
       "2831   Wednesday                6  \n",
       "2832    Thursday               17  \n",
       "2833    Thursday               20  \n",
       "2834      Friday               10  \n",
       "2835   Wednesday               19  \n",
       "2836   Wednesday               20  \n",
       "2837    Thursday                8  \n",
       "2838    Thursday               19  \n",
       "2839      Monday                4  \n",
       "2840      Monday               10  "
      ]
     },
     "execution_count": 150,
     "metadata": {},
     "output_type": "execute_result"
    }
   ],
   "source": [
    "UnfulfiledTripsData.head(10)"
   ]
  },
  {
   "cell_type": "markdown",
   "metadata": {},
   "source": [
    "## Bar plot to differentiate the unfulfilled rides based on Pickup Point and duration of the Day\n"
   ]
  },
  {
   "cell_type": "code",
   "execution_count": 151,
   "metadata": {},
   "outputs": [
    {
     "data": {
      "text/plain": [
       "[]"
      ]
     },
     "execution_count": 151,
     "metadata": {},
     "output_type": "execute_result"
    },
    {
     "data": {
      "image/png": "[encoded data removed]",
      "text/plain": [
       "<Figure size 827.725x360 with 2 Axes>"
      ]
     },
     "metadata": {},
     "output_type": "display_data"
    }
   ],
   "source": [
    "sns.catplot(x=\"Status\", hue=\"Request_TimeSlot\",col = \"Pickup point\", kind=\"count\", edgecolor=\".6\", data=UnfulfiledTripsData);\n",
    "plt.plot()"
   ]
  },
  {
   "cell_type": "code",
   "execution_count": 152,
   "metadata": {},
   "outputs": [
    {
     "data": {
      "text/plain": [
       "[]"
      ]
     },
     "execution_count": 152,
     "metadata": {},
     "output_type": "execute_result"
    },
    {
     "data": {
      "image/png": "[encoded data removed]",
      "text/plain": [
       "<Figure size 802.925x360 with 2 Axes>"
      ]
     },
     "metadata": {},
     "output_type": "display_data"
    }
   ],
   "source": [
    "#Plot showing the number of No Cars Available request are higher when the pickup is from Airport at late hours of the Day.\n",
    "#And for pickup from city Cancelled requests are higher as the drivers are cancelling the request reaching them.\n",
    "sns.catplot(x=\"Status\", hue=\"Hour of Request\",col = \"Pickup point\", kind=\"count\", edgecolor=\".6\", data=UnfulfiledTripsData);\n",
    "plt.plot()"
   ]
  },
  {
   "cell_type": "markdown",
   "metadata": {},
   "source": [
    "## 2.Gap between demand and supply for Uber"
   ]
  },
  {
   "cell_type": "code",
   "execution_count": 154,
   "metadata": {},
   "outputs": [],
   "source": [
    "# Creating a function to find out the gap in demand and supply for Uber\n",
    "# gap_in_DemandSupply returns the values of total request minus the trips completed \n",
    "# The output of this function will be the sum of the number of trips which are either Cancelled or can be fulfiled due to the unavailability of car.\n",
    "def gap_in_DemandSupply(df):\n",
    "    return df['Cancelled'] + df['No Cars Available'] + df['Trip Completed'] - df['Trip Completed']\n"
   ]
  },
  {
   "cell_type": "markdown",
   "metadata": {},
   "source": [
    "### a. Time Slot for highest demand-supply gap"
   ]
  },
  {
   "cell_type": "code",
   "execution_count": 155,
   "metadata": {},
   "outputs": [],
   "source": [
    "#Creating a pivot table to group the Status of requests based on the duration of the day\n",
    "UberRequestData_Grouped = pd.pivot_table(UberRequestData, index = 'Request_TimeSlot', columns = ['Status'], values ='Request timestamp', aggfunc = 'count')"
   ]
  },
  {
   "cell_type": "code",
   "execution_count": 156,
   "metadata": {},
   "outputs": [
    {
     "data": {
      "text/html": [
       "<div>\n",
       "<style scoped>\n",
       "    .dataframe tbody tr th:only-of-type {\n",
       "        vertical-align: middle;\n",
       "    }\n",
       "\n",
       "    .dataframe tbody tr th {\n",
       "        vertical-align: top;\n",
       "    }\n",
       "\n",
       "    .dataframe thead th {\n",
       "        text-align: right;\n",
       "    }\n",
       "</style>\n",
       "<table border=\"1\" class=\"dataframe\">\n",
       "  <thead>\n",
       "    <tr style=\"text-align: right;\">\n",
       "      <th>Status</th>\n",
       "      <th>Cancelled</th>\n",
       "      <th>No Cars Available</th>\n",
       "      <th>Trip Completed</th>\n",
       "    </tr>\n",
       "    <tr>\n",
       "      <th>Request_TimeSlot</th>\n",
       "      <th></th>\n",
       "      <th></th>\n",
       "      <th></th>\n",
       "    </tr>\n",
       "  </thead>\n",
       "  <tbody>\n",
       "    <tr>\n",
       "      <th>Early Morning</th>\n",
       "      <td>241</td>\n",
       "      <td>383</td>\n",
       "      <td>399</td>\n",
       "    </tr>\n",
       "    <tr>\n",
       "      <th>Morning</th>\n",
       "      <td>744</td>\n",
       "      <td>428</td>\n",
       "      <td>900</td>\n",
       "    </tr>\n",
       "    <tr>\n",
       "      <th>Afternoon</th>\n",
       "      <td>126</td>\n",
       "      <td>460</td>\n",
       "      <td>642</td>\n",
       "    </tr>\n",
       "    <tr>\n",
       "      <th>Late Evening</th>\n",
       "      <td>153</td>\n",
       "      <td>1379</td>\n",
       "      <td>890</td>\n",
       "    </tr>\n",
       "  </tbody>\n",
       "</table>\n",
       "</div>"
      ],
      "text/plain": [
       "Status            Cancelled  No Cars Available  Trip Completed\n",
       "Request_TimeSlot                                              \n",
       "Early Morning           241                383             399\n",
       "Morning                 744                428             900\n",
       "Afternoon               126                460             642\n",
       "Late Evening            153               1379             890"
      ]
     },
     "execution_count": 156,
     "metadata": {},
     "output_type": "execute_result"
    }
   ],
   "source": [
    "#View the pivot table\n",
    "UberRequestData_Grouped"
   ]
  },
  {
   "cell_type": "code",
   "execution_count": 157,
   "metadata": {},
   "outputs": [],
   "source": [
    "#Creating a new column Gap(Demand-Supply) \n",
    "# Calling function gap_in_DemandSupply to find the gap of demand and supply at different duration of the day \n",
    "# Save the gap in the new column Gap(Demand-Supply)\n",
    "\n",
    "UberRequestData_Grouped['Gap(Demand-Supply)'] = UberRequestData_Grouped.apply(gap_in_DemandSupply, axis = 1)"
   ]
  },
  {
   "cell_type": "code",
   "execution_count": 158,
   "metadata": {},
   "outputs": [
    {
     "data": {
      "text/html": [
       "<div>\n",
       "<style scoped>\n",
       "    .dataframe tbody tr th:only-of-type {\n",
       "        vertical-align: middle;\n",
       "    }\n",
       "\n",
       "    .dataframe tbody tr th {\n",
       "        vertical-align: top;\n",
       "    }\n",
       "\n",
       "    .dataframe thead th {\n",
       "        text-align: right;\n",
       "    }\n",
       "</style>\n",
       "<table border=\"1\" class=\"dataframe\">\n",
       "  <thead>\n",
       "    <tr style=\"text-align: right;\">\n",
       "      <th>Status</th>\n",
       "      <th>Cancelled</th>\n",
       "      <th>No Cars Available</th>\n",
       "      <th>Trip Completed</th>\n",
       "      <th>Gap(Demand-Supply)</th>\n",
       "    </tr>\n",
       "    <tr>\n",
       "      <th>Request_TimeSlot</th>\n",
       "      <th></th>\n",
       "      <th></th>\n",
       "      <th></th>\n",
       "      <th></th>\n",
       "    </tr>\n",
       "  </thead>\n",
       "  <tbody>\n",
       "    <tr>\n",
       "      <th>Early Morning</th>\n",
       "      <td>241</td>\n",
       "      <td>383</td>\n",
       "      <td>399</td>\n",
       "      <td>624</td>\n",
       "    </tr>\n",
       "    <tr>\n",
       "      <th>Morning</th>\n",
       "      <td>744</td>\n",
       "      <td>428</td>\n",
       "      <td>900</td>\n",
       "      <td>1172</td>\n",
       "    </tr>\n",
       "    <tr>\n",
       "      <th>Afternoon</th>\n",
       "      <td>126</td>\n",
       "      <td>460</td>\n",
       "      <td>642</td>\n",
       "      <td>586</td>\n",
       "    </tr>\n",
       "    <tr>\n",
       "      <th>Late Evening</th>\n",
       "      <td>153</td>\n",
       "      <td>1379</td>\n",
       "      <td>890</td>\n",
       "      <td>1532</td>\n",
       "    </tr>\n",
       "  </tbody>\n",
       "</table>\n",
       "</div>"
      ],
      "text/plain": [
       "Status            Cancelled  No Cars Available  Trip Completed  \\\n",
       "Request_TimeSlot                                                 \n",
       "Early Morning           241                383             399   \n",
       "Morning                 744                428             900   \n",
       "Afternoon               126                460             642   \n",
       "Late Evening            153               1379             890   \n",
       "\n",
       "Status            Gap(Demand-Supply)  \n",
       "Request_TimeSlot                      \n",
       "Early Morning                    624  \n",
       "Morning                         1172  \n",
       "Afternoon                        586  \n",
       "Late Evening                    1532  "
      ]
     },
     "execution_count": 158,
     "metadata": {},
     "output_type": "execute_result"
    }
   ],
   "source": [
    "UberRequestData_Grouped"
   ]
  },
  {
   "cell_type": "markdown",
   "metadata": {},
   "source": [
    "## Line Plot to find the time slots when the highest gap exists"
   ]
  },
  {
   "cell_type": "code",
   "execution_count": 159,
   "metadata": {},
   "outputs": [
    {
     "data": {
      "image/png": "[encoded data removed]",
      "text/plain": [
       "<Figure size 432x288 with 1 Axes>"
      ]
     },
     "metadata": {},
     "output_type": "display_data"
    }
   ],
   "source": [
    "# Creating a line plot to show where the peak in gap of demand and supply is highest\n",
    "\n",
    "sns.lineplot(x = UberRequestData_Grouped.index, y = 'Gap(Demand-Supply)', data = UberRequestData_Grouped )\n",
    "plt.show()\n"
   ]
  },
  {
   "cell_type": "markdown",
   "metadata": {},
   "source": [
    "### b. Types of requests (city-airport or airport-city) for which the gap is the most severe in the identified time slots "
   ]
  },
  {
   "cell_type": "code",
   "execution_count": 160,
   "metadata": {},
   "outputs": [],
   "source": [
    "# Creating pivot table to group the request based on the Pickup point and the Status of the request at different Request Time Slots\n",
    "UberRequestData_Groupedby_PickupPoint = pd.pivot_table(UberRequestData, index = 'Request_TimeSlot', columns = ['Pickup point', 'Status'], values ='Request timestamp', aggfunc = 'count')"
   ]
  },
  {
   "cell_type": "code",
   "execution_count": 161,
   "metadata": {},
   "outputs": [
    {
     "data": {
      "text/html": [
       "<div>\n",
       "<style scoped>\n",
       "    .dataframe tbody tr th:only-of-type {\n",
       "        vertical-align: middle;\n",
       "    }\n",
       "\n",
       "    .dataframe tbody tr th {\n",
       "        vertical-align: top;\n",
       "    }\n",
       "\n",
       "    .dataframe thead tr th {\n",
       "        text-align: left;\n",
       "    }\n",
       "\n",
       "    .dataframe thead tr:last-of-type th {\n",
       "        text-align: right;\n",
       "    }\n",
       "</style>\n",
       "<table border=\"1\" class=\"dataframe\">\n",
       "  <thead>\n",
       "    <tr>\n",
       "      <th>Pickup point</th>\n",
       "      <th colspan=\"3\" halign=\"left\">Airport</th>\n",
       "      <th colspan=\"3\" halign=\"left\">City</th>\n",
       "    </tr>\n",
       "    <tr>\n",
       "      <th>Status</th>\n",
       "      <th>Cancelled</th>\n",
       "      <th>No Cars Available</th>\n",
       "      <th>Trip Completed</th>\n",
       "      <th>Cancelled</th>\n",
       "      <th>No Cars Available</th>\n",
       "      <th>Trip Completed</th>\n",
       "    </tr>\n",
       "    <tr>\n",
       "      <th>Request_TimeSlot</th>\n",
       "      <th></th>\n",
       "      <th></th>\n",
       "      <th></th>\n",
       "      <th></th>\n",
       "      <th></th>\n",
       "      <th></th>\n",
       "    </tr>\n",
       "  </thead>\n",
       "  <tbody>\n",
       "    <tr>\n",
       "      <th>Early Morning</th>\n",
       "      <td>6</td>\n",
       "      <td>151</td>\n",
       "      <td>188</td>\n",
       "      <td>235</td>\n",
       "      <td>232</td>\n",
       "      <td>211</td>\n",
       "    </tr>\n",
       "    <tr>\n",
       "      <th>Morning</th>\n",
       "      <td>33</td>\n",
       "      <td>41</td>\n",
       "      <td>399</td>\n",
       "      <td>711</td>\n",
       "      <td>387</td>\n",
       "      <td>501</td>\n",
       "    </tr>\n",
       "    <tr>\n",
       "      <th>Afternoon</th>\n",
       "      <td>69</td>\n",
       "      <td>279</td>\n",
       "      <td>299</td>\n",
       "      <td>57</td>\n",
       "      <td>181</td>\n",
       "      <td>343</td>\n",
       "    </tr>\n",
       "    <tr>\n",
       "      <th>Late Evening</th>\n",
       "      <td>90</td>\n",
       "      <td>1242</td>\n",
       "      <td>441</td>\n",
       "      <td>63</td>\n",
       "      <td>137</td>\n",
       "      <td>449</td>\n",
       "    </tr>\n",
       "  </tbody>\n",
       "</table>\n",
       "</div>"
      ],
      "text/plain": [
       "Pickup point       Airport                                       City  \\\n",
       "Status           Cancelled No Cars Available Trip Completed Cancelled   \n",
       "Request_TimeSlot                                                        \n",
       "Early Morning            6               151            188       235   \n",
       "Morning                 33                41            399       711   \n",
       "Afternoon               69               279            299        57   \n",
       "Late Evening            90              1242            441        63   \n",
       "\n",
       "Pickup point                                       \n",
       "Status           No Cars Available Trip Completed  \n",
       "Request_TimeSlot                                   \n",
       "Early Morning                  232            211  \n",
       "Morning                        387            501  \n",
       "Afternoon                      181            343  \n",
       "Late Evening                   137            449  "
      ]
     },
     "execution_count": 161,
     "metadata": {},
     "output_type": "execute_result"
    }
   ],
   "source": [
    "#Lets view the pivot table to get a feel of data\n",
    "UberRequestData_Groupedby_PickupPoint.head()"
   ]
  },
  {
   "cell_type": "code",
   "execution_count": 162,
   "metadata": {},
   "outputs": [
    {
     "data": {
      "text/html": [
       "<div>\n",
       "<style scoped>\n",
       "    .dataframe tbody tr th:only-of-type {\n",
       "        vertical-align: middle;\n",
       "    }\n",
       "\n",
       "    .dataframe tbody tr th {\n",
       "        vertical-align: top;\n",
       "    }\n",
       "\n",
       "    .dataframe thead tr th {\n",
       "        text-align: left;\n",
       "    }\n",
       "\n",
       "    .dataframe thead tr:last-of-type th {\n",
       "        text-align: right;\n",
       "    }\n",
       "</style>\n",
       "<table border=\"1\" class=\"dataframe\">\n",
       "  <thead>\n",
       "    <tr>\n",
       "      <th>Pickup point</th>\n",
       "      <th colspan=\"3\" halign=\"left\">Airport</th>\n",
       "      <th colspan=\"3\" halign=\"left\">City</th>\n",
       "      <th>Gap(Demand-Supply)_Airport</th>\n",
       "      <th>Gap(Demand-Supply)_City</th>\n",
       "    </tr>\n",
       "    <tr>\n",
       "      <th>Status</th>\n",
       "      <th>Cancelled</th>\n",
       "      <th>No Cars Available</th>\n",
       "      <th>Trip Completed</th>\n",
       "      <th>Cancelled</th>\n",
       "      <th>No Cars Available</th>\n",
       "      <th>Trip Completed</th>\n",
       "      <th></th>\n",
       "      <th></th>\n",
       "    </tr>\n",
       "    <tr>\n",
       "      <th>Request_TimeSlot</th>\n",
       "      <th></th>\n",
       "      <th></th>\n",
       "      <th></th>\n",
       "      <th></th>\n",
       "      <th></th>\n",
       "      <th></th>\n",
       "      <th></th>\n",
       "      <th></th>\n",
       "    </tr>\n",
       "  </thead>\n",
       "  <tbody>\n",
       "    <tr>\n",
       "      <th>Early Morning</th>\n",
       "      <td>6</td>\n",
       "      <td>151</td>\n",
       "      <td>188</td>\n",
       "      <td>235</td>\n",
       "      <td>232</td>\n",
       "      <td>211</td>\n",
       "      <td>157</td>\n",
       "      <td>467</td>\n",
       "    </tr>\n",
       "    <tr>\n",
       "      <th>Morning</th>\n",
       "      <td>33</td>\n",
       "      <td>41</td>\n",
       "      <td>399</td>\n",
       "      <td>711</td>\n",
       "      <td>387</td>\n",
       "      <td>501</td>\n",
       "      <td>74</td>\n",
       "      <td>1098</td>\n",
       "    </tr>\n",
       "    <tr>\n",
       "      <th>Afternoon</th>\n",
       "      <td>69</td>\n",
       "      <td>279</td>\n",
       "      <td>299</td>\n",
       "      <td>57</td>\n",
       "      <td>181</td>\n",
       "      <td>343</td>\n",
       "      <td>348</td>\n",
       "      <td>238</td>\n",
       "    </tr>\n",
       "    <tr>\n",
       "      <th>Late Evening</th>\n",
       "      <td>90</td>\n",
       "      <td>1242</td>\n",
       "      <td>441</td>\n",
       "      <td>63</td>\n",
       "      <td>137</td>\n",
       "      <td>449</td>\n",
       "      <td>1332</td>\n",
       "      <td>200</td>\n",
       "    </tr>\n",
       "  </tbody>\n",
       "</table>\n",
       "</div>"
      ],
      "text/plain": [
       "Pickup point       Airport                                       City  \\\n",
       "Status           Cancelled No Cars Available Trip Completed Cancelled   \n",
       "Request_TimeSlot                                                        \n",
       "Early Morning            6               151            188       235   \n",
       "Morning                 33                41            399       711   \n",
       "Afternoon               69               279            299        57   \n",
       "Late Evening            90              1242            441        63   \n",
       "\n",
       "Pickup point                                      Gap(Demand-Supply)_Airport  \\\n",
       "Status           No Cars Available Trip Completed                              \n",
       "Request_TimeSlot                                                               \n",
       "Early Morning                  232            211                        157   \n",
       "Morning                        387            501                         74   \n",
       "Afternoon                      181            343                        348   \n",
       "Late Evening                   137            449                       1332   \n",
       "\n",
       "Pickup point     Gap(Demand-Supply)_City  \n",
       "Status                                    \n",
       "Request_TimeSlot                          \n",
       "Early Morning                        467  \n",
       "Morning                             1098  \n",
       "Afternoon                            238  \n",
       "Late Evening                         200  "
      ]
     },
     "execution_count": 162,
     "metadata": {},
     "output_type": "execute_result"
    }
   ],
   "source": [
    "# Calling function gap_in_DemandSupply to know the gap in demand-supply for different pickup points and Request time slots\n",
    "# This function is called twice once for Request having origin Airport and other for City\n",
    "# The data finally we have in the dataframe shows us that which is more pressing problem for uber and from where. \n",
    "# The gap is maximum for late evening requests from airport \n",
    "UberRequestData_Groupedby_PickupPoint['Gap(Demand-Supply)_Airport'] = UberRequestData_Groupedby_PickupPoint['Airport'].apply(gap_in_DemandSupply, axis = 1)\n",
    "UberRequestData_Groupedby_PickupPoint['Gap(Demand-Supply)_City'] = UberRequestData_Groupedby_PickupPoint['City'].apply(gap_in_DemandSupply, axis = 1)\n",
    "UberRequestData_Groupedby_PickupPoint"
   ]
  },
  {
   "cell_type": "markdown",
   "metadata": {},
   "source": [
    "## Plots showing the gap in demand and supply for Airport-City(Airport) and City-Airport(City) requests"
   ]
  },
  {
   "cell_type": "markdown",
   "metadata": {},
   "source": [
    "### Airport-City"
   ]
  },
  {
   "cell_type": "code",
   "execution_count": 163,
   "metadata": {},
   "outputs": [
    {
     "data": {
      "image/png": "[encoded data removed]",
      "text/plain": [
       "<Figure size 432x288 with 1 Axes>"
      ]
     },
     "metadata": {},
     "output_type": "display_data"
    }
   ],
   "source": [
    "sns.lineplot(x = UberRequestData_Groupedby_PickupPoint.index, y = 'Gap(Demand-Supply)_Airport', data = UberRequestData_Groupedby_PickupPoint )\n",
    "plt.show()\n"
   ]
  },
  {
   "cell_type": "markdown",
   "metadata": {},
   "source": [
    "### City-Airport"
   ]
  },
  {
   "cell_type": "code",
   "execution_count": 164,
   "metadata": {},
   "outputs": [
    {
     "data": {
      "image/png": "[encoded data removed]",
      "text/plain": [
       "<Figure size 432x288 with 1 Axes>"
      ]
     },
     "metadata": {},
     "output_type": "display_data"
    }
   ],
   "source": [
    "sns.lineplot(x = UberRequestData_Groupedby_PickupPoint.index, y = 'Gap(Demand-Supply)_City', data = UberRequestData_Groupedby_PickupPoint )\n",
    "plt.show()\n"
   ]
  },
  {
   "cell_type": "markdown",
   "metadata": {},
   "source": [
    "## Lets Compare the two in one plot"
   ]
  },
  {
   "cell_type": "code",
   "execution_count": 165,
   "metadata": {},
   "outputs": [],
   "source": [
    "#Lets create a dataframe containong only the Gaps\n",
    "ComparisonDataframe = UberRequestData_Groupedby_PickupPoint.loc[:,['DaySlot','Gap(Demand-Supply)_Airport', 'Gap(Demand-Supply)_City']]"
   ]
  },
  {
   "cell_type": "code",
   "execution_count": 166,
   "metadata": {},
   "outputs": [
    {
     "data": {
      "text/html": [
       "<div>\n",
       "<style scoped>\n",
       "    .dataframe tbody tr th:only-of-type {\n",
       "        vertical-align: middle;\n",
       "    }\n",
       "\n",
       "    .dataframe tbody tr th {\n",
       "        vertical-align: top;\n",
       "    }\n",
       "\n",
       "    .dataframe thead tr th {\n",
       "        text-align: left;\n",
       "    }\n",
       "\n",
       "    .dataframe thead tr:last-of-type th {\n",
       "        text-align: right;\n",
       "    }\n",
       "</style>\n",
       "<table border=\"1\" class=\"dataframe\">\n",
       "  <thead>\n",
       "    <tr>\n",
       "      <th>Pickup point</th>\n",
       "      <th>Gap(Demand-Supply)_Airport</th>\n",
       "      <th>Gap(Demand-Supply)_City</th>\n",
       "    </tr>\n",
       "    <tr>\n",
       "      <th>Status</th>\n",
       "      <th></th>\n",
       "      <th></th>\n",
       "    </tr>\n",
       "    <tr>\n",
       "      <th>Request_TimeSlot</th>\n",
       "      <th></th>\n",
       "      <th></th>\n",
       "    </tr>\n",
       "  </thead>\n",
       "  <tbody>\n",
       "    <tr>\n",
       "      <th>Early Morning</th>\n",
       "      <td>157</td>\n",
       "      <td>467</td>\n",
       "    </tr>\n",
       "    <tr>\n",
       "      <th>Morning</th>\n",
       "      <td>74</td>\n",
       "      <td>1098</td>\n",
       "    </tr>\n",
       "    <tr>\n",
       "      <th>Afternoon</th>\n",
       "      <td>348</td>\n",
       "      <td>238</td>\n",
       "    </tr>\n",
       "    <tr>\n",
       "      <th>Late Evening</th>\n",
       "      <td>1332</td>\n",
       "      <td>200</td>\n",
       "    </tr>\n",
       "  </tbody>\n",
       "</table>\n",
       "</div>"
      ],
      "text/plain": [
       "Pickup point     Gap(Demand-Supply)_Airport Gap(Demand-Supply)_City\n",
       "Status                                                             \n",
       "Request_TimeSlot                                                   \n",
       "Early Morning                           157                     467\n",
       "Morning                                  74                    1098\n",
       "Afternoon                               348                     238\n",
       "Late Evening                           1332                     200"
      ]
     },
     "execution_count": 166,
     "metadata": {},
     "output_type": "execute_result"
    }
   ],
   "source": [
    "ComparisonDataframe"
   ]
  },
  {
   "cell_type": "code",
   "execution_count": 167,
   "metadata": {},
   "outputs": [],
   "source": [
    "# Creating a function to create a line plot from Comparison Dataframe \n",
    "def gap_plot(dayslot, gap):\n",
    "    data = ComparisonDataframe.loc[dayslot, gap]\n",
    "    sns.lineplot(x=data.index, y=data.values)"
   ]
  },
  {
   "cell_type": "code",
   "execution_count": 168,
   "metadata": {},
   "outputs": [
    {
     "data": {
      "text/plain": [
       "<matplotlib.legend.Legend at 0x2bbe8b14b70>"
      ]
     },
     "execution_count": 168,
     "metadata": {},
     "output_type": "execute_result"
    },
    {
     "data": {
      "image/png": "[encoded data removed]",
      "text/plain": [
       "<Figure size 576x432 with 1 Axes>"
      ]
     },
     "metadata": {},
     "output_type": "display_data"
    }
   ],
   "source": [
    "#Calling the function for the gaps in Airport-City and city-Airport demand-supply data\n",
    "plt.figure(figsize = (8, 6))\n",
    "\n",
    "gaps = ['Gap(Demand-Supply)_Airport', 'Gap(Demand-Supply)_City']\n",
    "\n",
    "for gap in gaps:\n",
    "    gap_plot( ComparisonDataframe.index, gap)\n",
    "\n",
    "\n",
    "plt.legend(gaps)"
   ]
  },
  {
   "cell_type": "code",
   "execution_count": null,
   "metadata": {},
   "outputs": [],
   "source": []
  }
 ],
 "metadata": {
  "kernelspec": {
   "display_name": "Python 3",
   "language": "python",
   "name": "python3"
  },
  "language_info": {
   "codemirror_mode": {
    "name": "ipython",
    "version": 3
   },
   "file_extension": ".py",
   "mimetype": "text/x-python",
   "name": "python",
   "nbconvert_exporter": "python",
   "pygments_lexer": "ipython3",
   "version": "3.7.0"
  }
 },
 "nbformat": 4,
 "nbformat_minor": 2
}
